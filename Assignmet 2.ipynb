{
 "cells": [
  {
   "cell_type": "markdown",
   "id": "1eb4fcfd-2aa8-4968-9478-3dd22198d123",
   "metadata": {},
   "source": [
    "# 1. Question percentage of user and display the grdes\n"
   ]
  },
  {
   "cell_type": "code",
   "execution_count": 2,
   "id": "894a7028-fc0d-4d69-8ea3-a6ef09fa733c",
   "metadata": {},
   "outputs": [
    {
     "name": "stdin",
     "output_type": "stream",
     "text": [
      "Enter the percentage 90\n"
     ]
    },
    {
     "name": "stdout",
     "output_type": "stream",
     "text": [
      "B\n"
     ]
    }
   ],
   "source": [
    "average=int(input(\"Enter the percentage\"))\n",
    "if average> 90:\n",
    "    print(\"A\")\n",
    "elif average>80 and average<=90:\n",
    "    print(\"B\")\n",
    "elif average>=60 and average<=80:\n",
    "    print(\"C\")\n",
    "else:\n",
    "    print(\"D\")"
   ]
  },
  {
   "cell_type": "code",
   "execution_count": 6,
   "id": "f7052d3a-ec2a-48c7-bd58-da8bfc53a02d",
   "metadata": {},
   "outputs": [
    {
     "name": "stdin",
     "output_type": "stream",
     "text": [
      "Enter the percentage 50\n"
     ]
    },
    {
     "name": "stdout",
     "output_type": "stream",
     "text": [
      "D\n"
     ]
    }
   ],
   "source": [
    "average=int(input(\"Enter the percentage\"))\n",
    "if average> 90:\n",
    "    print(\"A\")\n",
    "elif average>80 and average<=90:\n",
    "    print(\"B\")\n",
    "elif average>=60 and average<=80:\n",
    "    print(\"C\")\n",
    "else:\n",
    "    print(\"D\")"
   ]
  },
  {
   "cell_type": "markdown",
   "id": "78e1f9a9-1926-4814-a617-1917051f2901",
   "metadata": {},
   "source": [
    "## 2.Question answer\n"
   ]
  },
  {
   "cell_type": "code",
   "execution_count": 12,
   "id": "17cc13a3-ede4-4187-b2dc-88be30825b6c",
   "metadata": {},
   "outputs": [
    {
     "name": "stdin",
     "output_type": "stream",
     "text": [
      "enter the price of the bike 70000\n"
     ]
    },
    {
     "name": "stdout",
     "output_type": "stream",
     "text": [
      "road tax has to be paid:7000.0\n"
     ]
    }
   ],
   "source": [
    "Price=int(input(\"enter the price of the bike\"))\n",
    "\n",
    "if Price>100000:\n",
    "    print(f\"road tax has to be paid:{Price*0.15}\")\n",
    "elif Price>50000 and Price<=100000:\n",
    "    print(f\"road tax has to be paid:{Price*0.10}\")\n",
    "else:\n",
    "    print(f\"road tax has to be paid:{Price*0.05}\")\n"
   ]
  },
  {
   "cell_type": "markdown",
   "id": "d7c638cc-bd42-4fbd-a8bb-72a9760b1080",
   "metadata": {},
   "source": [
    "## 3.Question answer\n",
    "   "
   ]
  },
  {
   "cell_type": "code",
   "execution_count": 15,
   "id": "8a76f26a-f4e4-4d9e-b22a-e24d96d14e7d",
   "metadata": {},
   "outputs": [
    {
     "name": "stdin",
     "output_type": "stream",
     "text": [
      "enter the city name Jaipur\n"
     ]
    },
    {
     "name": "stdout",
     "output_type": "stream",
     "text": [
      "Jal Mahal\n"
     ]
    }
   ],
   "source": [
    "city=input(\"enter the city name\")\n",
    "if city == \"Dehli\":\n",
    "    print(\"Red Fort\")\n",
    "elif city == \"Agra\":\n",
    "    print(\"taj mahal\")\n",
    "elif city == \"Jaipur\":\n",
    "    print(\"Jal Mahal\")\n",
    "\n",
    "else:\n",
    "    print(f\"travel all around:{city}\")\n",
    "   "
   ]
  },
  {
   "cell_type": "markdown",
   "id": "d96a3ba9-0956-41c6-ad5d-bc8ee61ee7dc",
   "metadata": {},
   "source": [
    "## 4.question answer\n",
    "\n",
    "    "
   ]
  },
  {
   "cell_type": "code",
   "execution_count": 16,
   "id": "b7325bd4-0808-43f9-934b-5d1b963a7220",
   "metadata": {},
   "outputs": [
    {
     "name": "stdin",
     "output_type": "stream",
     "text": [
      "enter the number 9\n"
     ]
    },
    {
     "name": "stdout",
     "output_type": "stream",
     "text": [
      "the given number is divided by : 3.0\n"
     ]
    }
   ],
   "source": [
    "a=int(input(\"enter the number\"))\n",
    "if a<=10:\n",
    "    print(f\"the given number is divided by : {a/3}\")\n",
    "else:\n",
    "    print(\"Give the number less than 10\")\n"
   ]
  },
  {
   "cell_type": "markdown",
   "id": "f3fd34a5-2cbc-4ea5-aa97-4055b4df1136",
   "metadata": {},
   "source": [
    "## 5. WHILE LOOP question\n"
   ]
  },
  {
   "cell_type": "code",
   "execution_count": 17,
   "id": "d3d2c036-967c-4e18-9203-dd7a23ded470",
   "metadata": {},
   "outputs": [
    {
     "name": "stdout",
     "output_type": "stream",
     "text": [
      "18\n",
      "17\n",
      "16\n",
      "15\n",
      "14\n",
      "13\n",
      "12\n",
      "11\n",
      "10\n",
      "9\n",
      "8\n",
      "7\n",
      "6\n",
      "5\n",
      "4\n",
      "3\n",
      "2\n",
      "1\n",
      "0\n"
     ]
    }
   ],
   "source": [
    "joining_age=18\n",
    "while (joining_age>=0):\n",
    "    print(joining_age)\n",
    "    joining_age=joining_age-1"
   ]
  },
  {
   "cell_type": "markdown",
   "id": "c83ece7d-a8e9-4846-8f27-f6d1fcfeb57e",
   "metadata": {},
   "source": [
    "## 6.Question Answer\n",
    "\n"
   ]
  },
  {
   "cell_type": "code",
   "execution_count": 18,
   "id": "2dfa9b55-8f7c-4156-8393-ed7e3b63be66",
   "metadata": {},
   "outputs": [
    {
     "name": "stdout",
     "output_type": "stream",
     "text": [
      "*  \n",
      "* *  \n",
      "* * *  \n",
      "* * * *  \n"
     ]
    }
   ],
   "source": [
    "i=1\n",
    "while i<5:\n",
    "    j=1\n",
    "    while j<=i:\n",
    "        print(\"*\",end=\" \")\n",
    "        j=j+1\n",
    "    i=i+1\n",
    "    print(\" \")"
   ]
  },
  {
   "cell_type": "code",
   "execution_count": 2,
   "id": "7776affb-9297-4ec8-be39-2049f26c0bb0",
   "metadata": {},
   "outputs": [
    {
     "name": "stdout",
     "output_type": "stream",
     "text": [
      "* * * * *  \n",
      "* * * * *  \n",
      "* * * * *  \n",
      "* * * * *  \n"
     ]
    }
   ],
   "source": [
    "i=1\n",
    "while i<5:\n",
    "    j=1\n",
    "    while j<=5:\n",
    "        print(\"*\",end=\" \")\n",
    "        j=j+1\n",
    "    i=i+1\n",
    "    print(\" \")"
   ]
  },
  {
   "cell_type": "code",
   "execution_count": 11,
   "id": "9c5276ce-836d-43ce-844e-03c8a2e30ddf",
   "metadata": {},
   "outputs": [
    {
     "name": "stdout",
     "output_type": "stream",
     "text": [
      "* * * *  \n",
      "* * *  \n",
      "* *  \n",
      "*  \n"
     ]
    }
   ],
   "source": [
    "i=1\n",
    "while i<5:\n",
    "    j=1\n",
    "    while j<=5-i:\n",
    "        print(\"*\",end=\" \")\n",
    "        j=j+1\n",
    "    i=i+1\n",
    "    print(\" \")"
   ]
  },
  {
   "cell_type": "markdown",
   "id": "c751d67c-d69c-41c7-bb63-75a60ce2a3ac",
   "metadata": {},
   "source": [
    "## 7.Question Answer"
   ]
  },
  {
   "cell_type": "code",
   "execution_count": 19,
   "id": "313182b5-1356-4df7-9326-c952276a521d",
   "metadata": {},
   "outputs": [
    {
     "name": "stdout",
     "output_type": "stream",
     "text": [
      "10\n",
      "9\n",
      "8\n",
      "7\n",
      "6\n",
      "5\n",
      "4\n",
      "3\n",
      "2\n",
      "1\n"
     ]
    }
   ],
   "source": [
    "numbers=10\n",
    "while (numbers>=1):\n",
    "    print(numbers)\n",
    "    numbers=numbers-1"
   ]
  },
  {
   "cell_type": "code",
   "execution_count": null,
   "id": "48ff241f-870a-4c25-82c9-8fa2edc05a0f",
   "metadata": {},
   "outputs": [],
   "source": []
  }
 ],
 "metadata": {
  "kernelspec": {
   "display_name": "Python 3 (ipykernel)",
   "language": "python",
   "name": "python3"
  },
  "language_info": {
   "codemirror_mode": {
    "name": "ipython",
    "version": 3
   },
   "file_extension": ".py",
   "mimetype": "text/x-python",
   "name": "python",
   "nbconvert_exporter": "python",
   "pygments_lexer": "ipython3",
   "version": "3.10.8"
  }
 },
 "nbformat": 4,
 "nbformat_minor": 5
}
